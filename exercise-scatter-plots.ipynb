{
 "cells": [
  {
   "cell_type": "markdown",
   "id": "c06244a2",
   "metadata": {
    "papermill": {
     "duration": 0.013329,
     "end_time": "2023-06-30T01:10:02.160114",
     "exception": false,
     "start_time": "2023-06-30T01:10:02.146785",
     "status": "completed"
    },
    "tags": []
   },
   "source": [
    "**This notebook is an exercise in the [Data Visualization](https://www.kaggle.com/learn/data-visualization) course.  You can reference the tutorial at [this link](https://www.kaggle.com/alexisbcook/scatter-plots).**\n",
    "\n",
    "---\n"
   ]
  },
  {
   "cell_type": "markdown",
   "id": "3988fd0d",
   "metadata": {
    "papermill": {
     "duration": 0.010888,
     "end_time": "2023-06-30T01:10:02.182608",
     "exception": false,
     "start_time": "2023-06-30T01:10:02.171720",
     "status": "completed"
    },
    "tags": []
   },
   "source": [
    "In this exercise, you will use your new knowledge to propose a solution to a real-world scenario.  To succeed, you will need to import data into Python, answer questions using the data, and generate **scatter plots** to understand patterns in the data.\n",
    "\n",
    "## Scenario\n",
    "\n",
    "You work for a major candy producer, and your goal is to write a report that your company can use to guide the design of its next product.  Soon after starting your research, you stumble across this [very interesting dataset](https://fivethirtyeight.com/features/the-ultimate-halloween-candy-power-ranking/) containing results from a fun survey to crowdsource favorite candies.\n",
    "\n",
    "## Setup\n",
    "\n",
    "Run the next cell to import and configure the Python libraries that you need to complete the exercise."
   ]
  },
  {
   "cell_type": "code",
   "execution_count": 1,
   "id": "5cb966b1",
   "metadata": {
    "execution": {
     "iopub.execute_input": "2023-06-30T01:10:02.207374Z",
     "iopub.status.busy": "2023-06-30T01:10:02.206344Z",
     "iopub.status.idle": "2023-06-30T01:10:03.795327Z",
     "shell.execute_reply": "2023-06-30T01:10:03.793888Z"
    },
    "papermill": {
     "duration": 1.604473,
     "end_time": "2023-06-30T01:10:03.798327",
     "exception": false,
     "start_time": "2023-06-30T01:10:02.193854",
     "status": "completed"
    },
    "tags": []
   },
   "outputs": [
    {
     "name": "stdout",
     "output_type": "stream",
     "text": [
      "Setup Complete\n"
     ]
    }
   ],
   "source": [
    "import pandas as pd\n",
    "pd.plotting.register_matplotlib_converters()\n",
    "import matplotlib.pyplot as plt\n",
    "%matplotlib inline\n",
    "import seaborn as sns\n",
    "print(\"Setup Complete\")"
   ]
  },
  {
   "cell_type": "markdown",
   "id": "ed2c8b50",
   "metadata": {
    "papermill": {
     "duration": 0.011898,
     "end_time": "2023-06-30T01:10:03.822389",
     "exception": false,
     "start_time": "2023-06-30T01:10:03.810491",
     "status": "completed"
    },
    "tags": []
   },
   "source": [
    "The questions below will give you feedback on your work. Run the following cell to set up our feedback system."
   ]
  },
  {
   "cell_type": "code",
   "execution_count": 2,
   "id": "b63b826e",
   "metadata": {
    "execution": {
     "iopub.execute_input": "2023-06-30T01:10:03.847636Z",
     "iopub.status.busy": "2023-06-30T01:10:03.847231Z",
     "iopub.status.idle": "2023-06-30T01:10:03.921967Z",
     "shell.execute_reply": "2023-06-30T01:10:03.920823Z"
    },
    "papermill": {
     "duration": 0.090697,
     "end_time": "2023-06-30T01:10:03.924507",
     "exception": false,
     "start_time": "2023-06-30T01:10:03.833810",
     "status": "completed"
    },
    "tags": []
   },
   "outputs": [
    {
     "name": "stdout",
     "output_type": "stream",
     "text": [
      "Setup Complete\n"
     ]
    }
   ],
   "source": [
    "# Set up code checking\n",
    "import os\n",
    "if not os.path.exists(\"../input/candy.csv\"):\n",
    "    os.symlink(\"../input/data-for-datavis/candy.csv\", \"../input/candy.csv\") \n",
    "from learntools.core import binder\n",
    "binder.bind(globals())\n",
    "from learntools.data_viz_to_coder.ex4 import *\n",
    "print(\"Setup Complete\")"
   ]
  },
  {
   "cell_type": "markdown",
   "id": "bda5d995",
   "metadata": {
    "papermill": {
     "duration": 0.011209,
     "end_time": "2023-06-30T01:10:03.947130",
     "exception": false,
     "start_time": "2023-06-30T01:10:03.935921",
     "status": "completed"
    },
    "tags": []
   },
   "source": [
    "## Step 1: Load the Data\n",
    "\n",
    "Read the candy data file into `candy_data`.  Use the `\"id\"` column to label the rows."
   ]
  },
  {
   "cell_type": "code",
   "execution_count": 3,
   "id": "64117b7a",
   "metadata": {
    "execution": {
     "iopub.execute_input": "2023-06-30T01:10:03.971938Z",
     "iopub.status.busy": "2023-06-30T01:10:03.971164Z",
     "iopub.status.idle": "2023-06-30T01:10:03.989791Z",
     "shell.execute_reply": "2023-06-30T01:10:03.988664Z"
    },
    "papermill": {
     "duration": 0.033558,
     "end_time": "2023-06-30T01:10:03.991936",
     "exception": false,
     "start_time": "2023-06-30T01:10:03.958378",
     "status": "completed"
    },
    "tags": []
   },
   "outputs": [
    {
     "data": {
      "application/javascript": [
       "parent.postMessage({\"jupyterEvent\": \"custom.exercise_interaction\", \"data\": {\"outcomeType\": 1, \"valueTowardsCompletion\": 0.3333333333333333, \"interactionType\": 1, \"questionType\": 1, \"questionId\": \"1_LoadData\", \"learnToolsVersion\": \"0.3.4\", \"failureMessage\": \"\", \"exceptionClass\": \"\", \"trace\": \"\"}}, \"*\")"
      ],
      "text/plain": [
       "<IPython.core.display.Javascript object>"
      ]
     },
     "metadata": {},
     "output_type": "display_data"
    },
    {
     "data": {
      "text/markdown": [
       "<span style=\"color:#33cc33\">Correct</span>"
      ],
      "text/plain": [
       "Correct"
      ]
     },
     "metadata": {},
     "output_type": "display_data"
    }
   ],
   "source": [
    "# Path of the file to read\n",
    "candy_filepath = \"../input/candy.csv\"\n",
    "\n",
    "# Fill in the line below to read the file into a variable candy_data\n",
    "candy_data = pd.read_csv(candy_filepath, index_col='id')\n",
    "\n",
    "# Run the line below with no changes to check that you've loaded the data correctly\n",
    "step_1.check()"
   ]
  },
  {
   "cell_type": "code",
   "execution_count": 4,
   "id": "d29869e8",
   "metadata": {
    "execution": {
     "iopub.execute_input": "2023-06-30T01:10:04.018530Z",
     "iopub.status.busy": "2023-06-30T01:10:04.017531Z",
     "iopub.status.idle": "2023-06-30T01:10:04.029755Z",
     "shell.execute_reply": "2023-06-30T01:10:04.028664Z"
    },
    "papermill": {
     "duration": 0.028262,
     "end_time": "2023-06-30T01:10:04.032075",
     "exception": false,
     "start_time": "2023-06-30T01:10:04.003813",
     "status": "completed"
    },
    "tags": []
   },
   "outputs": [
    {
     "data": {
      "application/javascript": [
       "parent.postMessage({\"jupyterEvent\": \"custom.exercise_interaction\", \"data\": {\"interactionType\": 2, \"questionType\": 1, \"questionId\": \"1_LoadData\", \"learnToolsVersion\": \"0.3.4\", \"valueTowardsCompletion\": 0.0, \"failureMessage\": \"\", \"exceptionClass\": \"\", \"trace\": \"\", \"outcomeType\": 4}}, \"*\")"
      ],
      "text/plain": [
       "<IPython.core.display.Javascript object>"
      ]
     },
     "metadata": {},
     "output_type": "display_data"
    },
    {
     "data": {
      "text/markdown": [
       "<span style=\"color:#3366cc\">Hint:</span> Use `pd.read_csv`, and follow it with **two** pieces of text that are enclosed in parentheses and separated by commas.  (1) The filepath for the dataset is provided in `candy_filepath`.  (2) Use the `\"id\"` column to label the rows."
      ],
      "text/plain": [
       "Hint: Use `pd.read_csv`, and follow it with **two** pieces of text that are enclosed in parentheses and separated by commas.  (1) The filepath for the dataset is provided in `candy_filepath`.  (2) Use the `\"id\"` column to label the rows."
      ]
     },
     "metadata": {},
     "output_type": "display_data"
    },
    {
     "data": {
      "application/javascript": [
       "parent.postMessage({\"jupyterEvent\": \"custom.exercise_interaction\", \"data\": {\"interactionType\": 3, \"questionType\": 1, \"questionId\": \"1_LoadData\", \"learnToolsVersion\": \"0.3.4\", \"valueTowardsCompletion\": 0.0, \"failureMessage\": \"\", \"exceptionClass\": \"\", \"trace\": \"\", \"outcomeType\": 4}}, \"*\")"
      ],
      "text/plain": [
       "<IPython.core.display.Javascript object>"
      ]
     },
     "metadata": {},
     "output_type": "display_data"
    },
    {
     "data": {
      "text/markdown": [
       "<span style=\"color:#33cc99\">Solution:</span> \n",
       "```python\n",
       "candy_data = pd.read_csv(candy_filepath, index_col=\"id\")\n",
       "```"
      ],
      "text/plain": [
       "Solution: \n",
       "```python\n",
       "candy_data = pd.read_csv(candy_filepath, index_col=\"id\")\n",
       "```"
      ]
     },
     "metadata": {},
     "output_type": "display_data"
    }
   ],
   "source": [
    "# Lines below will give you a hint or solution code\n",
    "step_1.hint()\n",
    "step_1.solution()"
   ]
  },
  {
   "cell_type": "markdown",
   "id": "38ccc251",
   "metadata": {
    "papermill": {
     "duration": 0.012102,
     "end_time": "2023-06-30T01:10:04.057553",
     "exception": false,
     "start_time": "2023-06-30T01:10:04.045451",
     "status": "completed"
    },
    "tags": []
   },
   "source": [
    "## Step 2: Review the data\n",
    "\n",
    "Use a Python command to print the first five rows of the data."
   ]
  },
  {
   "cell_type": "code",
   "execution_count": 5,
   "id": "cca88fcc",
   "metadata": {
    "execution": {
     "iopub.execute_input": "2023-06-30T01:10:04.083868Z",
     "iopub.status.busy": "2023-06-30T01:10:04.083486Z",
     "iopub.status.idle": "2023-06-30T01:10:04.114380Z",
     "shell.execute_reply": "2023-06-30T01:10:04.113103Z"
    },
    "papermill": {
     "duration": 0.047561,
     "end_time": "2023-06-30T01:10:04.117472",
     "exception": false,
     "start_time": "2023-06-30T01:10:04.069911",
     "status": "completed"
    },
    "tags": []
   },
   "outputs": [
    {
     "data": {
      "text/html": [
       "<div>\n",
       "<style scoped>\n",
       "    .dataframe tbody tr th:only-of-type {\n",
       "        vertical-align: middle;\n",
       "    }\n",
       "\n",
       "    .dataframe tbody tr th {\n",
       "        vertical-align: top;\n",
       "    }\n",
       "\n",
       "    .dataframe thead th {\n",
       "        text-align: right;\n",
       "    }\n",
       "</style>\n",
       "<table border=\"1\" class=\"dataframe\">\n",
       "  <thead>\n",
       "    <tr style=\"text-align: right;\">\n",
       "      <th></th>\n",
       "      <th>competitorname</th>\n",
       "      <th>chocolate</th>\n",
       "      <th>fruity</th>\n",
       "      <th>caramel</th>\n",
       "      <th>peanutyalmondy</th>\n",
       "      <th>nougat</th>\n",
       "      <th>crispedricewafer</th>\n",
       "      <th>hard</th>\n",
       "      <th>bar</th>\n",
       "      <th>pluribus</th>\n",
       "      <th>sugarpercent</th>\n",
       "      <th>pricepercent</th>\n",
       "      <th>winpercent</th>\n",
       "    </tr>\n",
       "    <tr>\n",
       "      <th>id</th>\n",
       "      <th></th>\n",
       "      <th></th>\n",
       "      <th></th>\n",
       "      <th></th>\n",
       "      <th></th>\n",
       "      <th></th>\n",
       "      <th></th>\n",
       "      <th></th>\n",
       "      <th></th>\n",
       "      <th></th>\n",
       "      <th></th>\n",
       "      <th></th>\n",
       "      <th></th>\n",
       "    </tr>\n",
       "  </thead>\n",
       "  <tbody>\n",
       "    <tr>\n",
       "      <th>0</th>\n",
       "      <td>100 Grand</td>\n",
       "      <td>Yes</td>\n",
       "      <td>No</td>\n",
       "      <td>Yes</td>\n",
       "      <td>No</td>\n",
       "      <td>No</td>\n",
       "      <td>Yes</td>\n",
       "      <td>No</td>\n",
       "      <td>Yes</td>\n",
       "      <td>No</td>\n",
       "      <td>0.732</td>\n",
       "      <td>0.860</td>\n",
       "      <td>66.971725</td>\n",
       "    </tr>\n",
       "    <tr>\n",
       "      <th>1</th>\n",
       "      <td>3 Musketeers</td>\n",
       "      <td>Yes</td>\n",
       "      <td>No</td>\n",
       "      <td>No</td>\n",
       "      <td>No</td>\n",
       "      <td>Yes</td>\n",
       "      <td>No</td>\n",
       "      <td>No</td>\n",
       "      <td>Yes</td>\n",
       "      <td>No</td>\n",
       "      <td>0.604</td>\n",
       "      <td>0.511</td>\n",
       "      <td>67.602936</td>\n",
       "    </tr>\n",
       "    <tr>\n",
       "      <th>2</th>\n",
       "      <td>Air Heads</td>\n",
       "      <td>No</td>\n",
       "      <td>Yes</td>\n",
       "      <td>No</td>\n",
       "      <td>No</td>\n",
       "      <td>No</td>\n",
       "      <td>No</td>\n",
       "      <td>No</td>\n",
       "      <td>No</td>\n",
       "      <td>No</td>\n",
       "      <td>0.906</td>\n",
       "      <td>0.511</td>\n",
       "      <td>52.341465</td>\n",
       "    </tr>\n",
       "    <tr>\n",
       "      <th>3</th>\n",
       "      <td>Almond Joy</td>\n",
       "      <td>Yes</td>\n",
       "      <td>No</td>\n",
       "      <td>No</td>\n",
       "      <td>Yes</td>\n",
       "      <td>No</td>\n",
       "      <td>No</td>\n",
       "      <td>No</td>\n",
       "      <td>Yes</td>\n",
       "      <td>No</td>\n",
       "      <td>0.465</td>\n",
       "      <td>0.767</td>\n",
       "      <td>50.347546</td>\n",
       "    </tr>\n",
       "    <tr>\n",
       "      <th>4</th>\n",
       "      <td>Baby Ruth</td>\n",
       "      <td>Yes</td>\n",
       "      <td>No</td>\n",
       "      <td>Yes</td>\n",
       "      <td>Yes</td>\n",
       "      <td>Yes</td>\n",
       "      <td>No</td>\n",
       "      <td>No</td>\n",
       "      <td>Yes</td>\n",
       "      <td>No</td>\n",
       "      <td>0.604</td>\n",
       "      <td>0.767</td>\n",
       "      <td>56.914547</td>\n",
       "    </tr>\n",
       "  </tbody>\n",
       "</table>\n",
       "</div>"
      ],
      "text/plain": [
       "   competitorname chocolate fruity caramel peanutyalmondy nougat  \\\n",
       "id                                                                 \n",
       "0       100 Grand       Yes     No     Yes             No     No   \n",
       "1    3 Musketeers       Yes     No      No             No    Yes   \n",
       "2       Air Heads        No    Yes      No             No     No   \n",
       "3      Almond Joy       Yes     No      No            Yes     No   \n",
       "4       Baby Ruth       Yes     No     Yes            Yes    Yes   \n",
       "\n",
       "   crispedricewafer hard  bar pluribus  sugarpercent  pricepercent  winpercent  \n",
       "id                                                                              \n",
       "0               Yes   No  Yes       No         0.732         0.860   66.971725  \n",
       "1                No   No  Yes       No         0.604         0.511   67.602936  \n",
       "2                No   No   No       No         0.906         0.511   52.341465  \n",
       "3                No   No  Yes       No         0.465         0.767   50.347546  \n",
       "4                No   No  Yes       No         0.604         0.767   56.914547  "
      ]
     },
     "execution_count": 5,
     "metadata": {},
     "output_type": "execute_result"
    }
   ],
   "source": [
    "# Print the first five rows of the data\n",
    "candy_data.head()"
   ]
  },
  {
   "cell_type": "markdown",
   "id": "7d80da54",
   "metadata": {
    "papermill": {
     "duration": 0.013566,
     "end_time": "2023-06-30T01:10:04.144460",
     "exception": false,
     "start_time": "2023-06-30T01:10:04.130894",
     "status": "completed"
    },
    "tags": []
   },
   "source": [
    "The dataset contains 83 rows, where each corresponds to a different candy bar.  There are 13 columns:\n",
    "- `'competitorname'` contains the name of the candy bar. \n",
    "- the next **9** columns (from `'chocolate'` to `'pluribus'`) describe the candy.  For instance, rows with chocolate candies have `\"Yes\"` in the `'chocolate'` column (and candies without chocolate have `\"No\"` in the same column).\n",
    "- `'sugarpercent'` provides some indication of the amount of sugar, where higher values signify higher sugar content.\n",
    "- `'pricepercent'` shows the price per unit, relative to the other candies in the dataset.\n",
    "- `'winpercent'` is calculated from the survey results; higher values indicate that the candy was more popular with survey respondents.\n",
    "\n",
    "Use the first five rows of the data to answer the questions below."
   ]
  },
  {
   "cell_type": "code",
   "execution_count": 6,
   "id": "b268d592",
   "metadata": {
    "execution": {
     "iopub.execute_input": "2023-06-30T01:10:04.173884Z",
     "iopub.status.busy": "2023-06-30T01:10:04.172986Z",
     "iopub.status.idle": "2023-06-30T01:10:04.183244Z",
     "shell.execute_reply": "2023-06-30T01:10:04.182250Z"
    },
    "papermill": {
     "duration": 0.029522,
     "end_time": "2023-06-30T01:10:04.186705",
     "exception": false,
     "start_time": "2023-06-30T01:10:04.157183",
     "status": "completed"
    },
    "tags": []
   },
   "outputs": [
    {
     "data": {
      "application/javascript": [
       "parent.postMessage({\"jupyterEvent\": \"custom.exercise_interaction\", \"data\": {\"outcomeType\": 1, \"valueTowardsCompletion\": 0.3333333333333333, \"interactionType\": 1, \"questionType\": 1, \"questionId\": \"2_ReviewData\", \"learnToolsVersion\": \"0.3.4\", \"failureMessage\": \"\", \"exceptionClass\": \"\", \"trace\": \"\"}}, \"*\")"
      ],
      "text/plain": [
       "<IPython.core.display.Javascript object>"
      ]
     },
     "metadata": {},
     "output_type": "display_data"
    },
    {
     "data": {
      "text/markdown": [
       "<span style=\"color:#33cc33\">Correct</span>"
      ],
      "text/plain": [
       "Correct"
      ]
     },
     "metadata": {},
     "output_type": "display_data"
    }
   ],
   "source": [
    "# Fill in the line below: Which candy was more popular with survey respondents:\n",
    "# '3 Musketeers' or 'Almond Joy'?  (Please enclose your answer in single quotes.)\n",
    "more_popular = '3 Musketeers'\n",
    "\n",
    "# Fill in the line below: Which candy has higher sugar content: 'Air Heads'\n",
    "# or 'Baby Ruth'? (Please enclose your answer in single quotes.)\n",
    "more_sugar = 'Air Heads'\n",
    "\n",
    "# Check your answers\n",
    "step_2.check()"
   ]
  },
  {
   "cell_type": "code",
   "execution_count": 7,
   "id": "f30e3330",
   "metadata": {
    "execution": {
     "iopub.execute_input": "2023-06-30T01:10:04.220501Z",
     "iopub.status.busy": "2023-06-30T01:10:04.220129Z",
     "iopub.status.idle": "2023-06-30T01:10:04.225055Z",
     "shell.execute_reply": "2023-06-30T01:10:04.223983Z"
    },
    "papermill": {
     "duration": 0.02557,
     "end_time": "2023-06-30T01:10:04.227254",
     "exception": false,
     "start_time": "2023-06-30T01:10:04.201684",
     "status": "completed"
    },
    "tags": []
   },
   "outputs": [],
   "source": [
    "# Lines below will give you a hint or solution code\n",
    "#step_2.hint()\n",
    "#step_2.solution()"
   ]
  },
  {
   "cell_type": "markdown",
   "id": "dbc2a921",
   "metadata": {
    "papermill": {
     "duration": 0.012709,
     "end_time": "2023-06-30T01:10:04.253202",
     "exception": false,
     "start_time": "2023-06-30T01:10:04.240493",
     "status": "completed"
    },
    "tags": []
   },
   "source": [
    "## Step 3: The role of sugar\n",
    "\n",
    "Do people tend to prefer candies with higher sugar content?  \n",
    "\n",
    "#### Part A\n",
    "\n",
    "Create a scatter plot that shows the relationship between `'sugarpercent'` (on the horizontal x-axis) and `'winpercent'` (on the vertical y-axis).  _Don't add a regression line just yet -- you'll do that in the next step!_"
   ]
  },
  {
   "cell_type": "code",
   "execution_count": 8,
   "id": "987eacce",
   "metadata": {
    "execution": {
     "iopub.execute_input": "2023-06-30T01:10:04.291144Z",
     "iopub.status.busy": "2023-06-30T01:10:04.290565Z",
     "iopub.status.idle": "2023-06-30T01:10:04.666477Z",
     "shell.execute_reply": "2023-06-30T01:10:04.665481Z"
    },
    "papermill": {
     "duration": 0.401517,
     "end_time": "2023-06-30T01:10:04.669300",
     "exception": false,
     "start_time": "2023-06-30T01:10:04.267783",
     "status": "completed"
    },
    "tags": []
   },
   "outputs": [
    {
     "data": {
      "application/javascript": [
       "parent.postMessage({\"jupyterEvent\": \"custom.exercise_interaction\", \"data\": {\"outcomeType\": 1, \"valueTowardsCompletion\": 0.3333333333333333, \"interactionType\": 1, \"questionType\": 2, \"questionId\": \"3.1_PlotBlueScatter\", \"learnToolsVersion\": \"0.3.4\", \"failureMessage\": \"\", \"exceptionClass\": \"\", \"trace\": \"\"}}, \"*\")"
      ],
      "text/plain": [
       "<IPython.core.display.Javascript object>"
      ]
     },
     "metadata": {},
     "output_type": "display_data"
    },
    {
     "data": {
      "text/markdown": [
       "<span style=\"color:#33cc33\">Correct</span>"
      ],
      "text/plain": [
       "Correct"
      ]
     },
     "metadata": {},
     "output_type": "display_data"
    },
    {
     "data": {
      "image/png": "[encoded data removed]",
      "text/plain": [
       "<Figure size 640x480 with 1 Axes>"
      ]
     },
     "metadata": {},
     "output_type": "display_data"
    }
   ],
   "source": [
    "# Scatter plot showing the relationship between 'sugarpercent' and 'winpercent'\n",
    "sns.scatterplot(x=candy_data['sugarpercent'], y=candy_data['winpercent'])\n",
    "\n",
    "# Check your answer\n",
    "step_3.a.check()"
   ]
  },
  {
   "cell_type": "code",
   "execution_count": 9,
   "id": "712f6190",
   "metadata": {
    "execution": {
     "iopub.execute_input": "2023-06-30T01:10:04.709511Z",
     "iopub.status.busy": "2023-06-30T01:10:04.708896Z",
     "iopub.status.idle": "2023-06-30T01:10:04.713227Z",
     "shell.execute_reply": "2023-06-30T01:10:04.712240Z"
    },
    "papermill": {
     "duration": 0.025939,
     "end_time": "2023-06-30T01:10:04.715385",
     "exception": false,
     "start_time": "2023-06-30T01:10:04.689446",
     "status": "completed"
    },
    "tags": []
   },
   "outputs": [],
   "source": [
    "# Lines below will give you a hint or solution code\n",
    "#step_3.a.hint()\n",
    "#step_3.a.solution_plot()"
   ]
  },
  {
   "cell_type": "markdown",
   "id": "ed39635f",
   "metadata": {
    "papermill": {
     "duration": 0.01393,
     "end_time": "2023-06-30T01:10:04.743250",
     "exception": false,
     "start_time": "2023-06-30T01:10:04.729320",
     "status": "completed"
    },
    "tags": []
   },
   "source": [
    "#### Part B\n",
    "\n",
    "Does the scatter plot show a **strong** correlation between the two variables?  If so, are candies with more sugar relatively more or less popular with the survey respondents?"
   ]
  },
  {
   "cell_type": "code",
   "execution_count": 10,
   "id": "8d854a23",
   "metadata": {
    "execution": {
     "iopub.execute_input": "2023-06-30T01:10:04.773634Z",
     "iopub.status.busy": "2023-06-30T01:10:04.772951Z",
     "iopub.status.idle": "2023-06-30T01:10:04.777680Z",
     "shell.execute_reply": "2023-06-30T01:10:04.776685Z"
    },
    "papermill": {
     "duration": 0.022432,
     "end_time": "2023-06-30T01:10:04.779907",
     "exception": false,
     "start_time": "2023-06-30T01:10:04.757475",
     "status": "completed"
    },
    "tags": []
   },
   "outputs": [],
   "source": [
    "#step_3.b.hint()"
   ]
  },
  {
   "cell_type": "code",
   "execution_count": 11,
   "id": "a844cc11",
   "metadata": {
    "execution": {
     "iopub.execute_input": "2023-06-30T01:10:04.812035Z",
     "iopub.status.busy": "2023-06-30T01:10:04.810928Z",
     "iopub.status.idle": "2023-06-30T01:10:04.819927Z",
     "shell.execute_reply": "2023-06-30T01:10:04.818975Z"
    },
    "papermill": {
     "duration": 0.02833,
     "end_time": "2023-06-30T01:10:04.822031",
     "exception": false,
     "start_time": "2023-06-30T01:10:04.793701",
     "status": "completed"
    },
    "tags": []
   },
   "outputs": [
    {
     "data": {
      "application/javascript": [
       "parent.postMessage({\"jupyterEvent\": \"custom.exercise_interaction\", \"data\": {\"interactionType\": 3, \"questionType\": 4, \"questionId\": \"3.2_ThinkBlueScatter\", \"learnToolsVersion\": \"0.3.4\", \"valueTowardsCompletion\": 0.0, \"failureMessage\": \"\", \"exceptionClass\": \"\", \"trace\": \"\", \"outcomeType\": 4}}, \"*\")"
      ],
      "text/plain": [
       "<IPython.core.display.Javascript object>"
      ]
     },
     "metadata": {},
     "output_type": "display_data"
    },
    {
     "data": {
      "text/markdown": [
       "<span style=\"color:#33cc99\">Solution:</span> The scatter plot does not show a strong correlation between the two variables. Since there is no clear relationship between the two variables, this tells us that sugar content does not play a strong role in candy popularity."
      ],
      "text/plain": [
       "Solution: The scatter plot does not show a strong correlation between the two variables. Since there is no clear relationship between the two variables, this tells us that sugar content does not play a strong role in candy popularity."
      ]
     },
     "metadata": {},
     "output_type": "display_data"
    }
   ],
   "source": [
    "# Check your answer (Run this code cell to receive credit!)\n",
    "step_3.b.solution()"
   ]
  },
  {
   "cell_type": "markdown",
   "id": "1b7c0124",
   "metadata": {
    "papermill": {
     "duration": 0.013929,
     "end_time": "2023-06-30T01:10:04.850595",
     "exception": false,
     "start_time": "2023-06-30T01:10:04.836666",
     "status": "completed"
    },
    "tags": []
   },
   "source": [
    "## Step 4: Take a closer look\n",
    "\n",
    "#### Part A\n",
    "\n",
    "Create the same scatter plot you created in **Step 3**, but now with a regression line!"
   ]
  },
  {
   "cell_type": "code",
   "execution_count": 12,
   "id": "e24a2ebd",
   "metadata": {
    "execution": {
     "iopub.execute_input": "2023-06-30T01:10:04.882053Z",
     "iopub.status.busy": "2023-06-30T01:10:04.881629Z",
     "iopub.status.idle": "2023-06-30T01:10:05.337930Z",
     "shell.execute_reply": "2023-06-30T01:10:05.336805Z"
    },
    "papermill": {
     "duration": 0.474801,
     "end_time": "2023-06-30T01:10:05.340487",
     "exception": false,
     "start_time": "2023-06-30T01:10:04.865686",
     "status": "completed"
    },
    "tags": []
   },
   "outputs": [
    {
     "data": {
      "application/javascript": [
       "parent.postMessage({\"jupyterEvent\": \"custom.exercise_interaction\", \"data\": {\"outcomeType\": 1, \"valueTowardsCompletion\": 0.3333333333333333, \"interactionType\": 1, \"questionType\": 2, \"questionId\": \"4.1_PlotBlueReg\", \"learnToolsVersion\": \"0.3.4\", \"failureMessage\": \"\", \"exceptionClass\": \"\", \"trace\": \"\"}}, \"*\")"
      ],
      "text/plain": [
       "<IPython.core.display.Javascript object>"
      ]
     },
     "metadata": {},
     "output_type": "display_data"
    },
    {
     "data": {
      "text/markdown": [
       "<span style=\"color:#33cc33\">Correct</span>"
      ],
      "text/plain": [
       "Correct"
      ]
     },
     "metadata": {},
     "output_type": "display_data"
    },
    {
     "data": {
      "image/png": "[encoded data removed]",
      "text/plain": [
       "<Figure size 640x480 with 1 Axes>"
      ]
     },
     "metadata": {},
     "output_type": "display_data"
    }
   ],
   "source": [
    "# Scatter plot w/ regression line showing the relationship between 'sugarpercent' and 'winpercent'\n",
    "\n",
    "sns.regplot(x=candy_data['sugarpercent'], y=candy_data['winpercent'])\n",
    "\n",
    "# Check your answer\n",
    "step_4.a.check()"
   ]
  },
  {
   "cell_type": "code",
   "execution_count": 13,
   "id": "a61feeee",
   "metadata": {
    "execution": {
     "iopub.execute_input": "2023-06-30T01:10:05.372942Z",
     "iopub.status.busy": "2023-06-30T01:10:05.372562Z",
     "iopub.status.idle": "2023-06-30T01:10:05.377038Z",
     "shell.execute_reply": "2023-06-30T01:10:05.375815Z"
    },
    "papermill": {
     "duration": 0.023695,
     "end_time": "2023-06-30T01:10:05.379676",
     "exception": false,
     "start_time": "2023-06-30T01:10:05.355981",
     "status": "completed"
    },
    "tags": []
   },
   "outputs": [],
   "source": [
    "# Lines below will give you a hint or solution code\n",
    "#step_4.a.hint()\n",
    "#step_4.a.solution_plot()"
   ]
  },
  {
   "cell_type": "markdown",
   "id": "8a234179",
   "metadata": {
    "papermill": {
     "duration": 0.014716,
     "end_time": "2023-06-30T01:10:05.409488",
     "exception": false,
     "start_time": "2023-06-30T01:10:05.394772",
     "status": "completed"
    },
    "tags": []
   },
   "source": [
    "#### Part B\n",
    "\n",
    "According to the plot above, is there a **slight** correlation between `'winpercent'` and `'sugarpercent'`?  What does this tell you about the candy that people tend to prefer?"
   ]
  },
  {
   "cell_type": "code",
   "execution_count": 14,
   "id": "2caa8b8c",
   "metadata": {
    "execution": {
     "iopub.execute_input": "2023-06-30T01:10:05.442221Z",
     "iopub.status.busy": "2023-06-30T01:10:05.441811Z",
     "iopub.status.idle": "2023-06-30T01:10:05.446001Z",
     "shell.execute_reply": "2023-06-30T01:10:05.444994Z"
    },
    "papermill": {
     "duration": 0.023623,
     "end_time": "2023-06-30T01:10:05.448187",
     "exception": false,
     "start_time": "2023-06-30T01:10:05.424564",
     "status": "completed"
    },
    "tags": []
   },
   "outputs": [],
   "source": [
    "#step_4.b.hint()"
   ]
  },
  {
   "cell_type": "code",
   "execution_count": 15,
   "id": "a68531c5",
   "metadata": {
    "execution": {
     "iopub.execute_input": "2023-06-30T01:10:05.480286Z",
     "iopub.status.busy": "2023-06-30T01:10:05.479614Z",
     "iopub.status.idle": "2023-06-30T01:10:05.488836Z",
     "shell.execute_reply": "2023-06-30T01:10:05.487609Z"
    },
    "papermill": {
     "duration": 0.028436,
     "end_time": "2023-06-30T01:10:05.491696",
     "exception": false,
     "start_time": "2023-06-30T01:10:05.463260",
     "status": "completed"
    },
    "tags": []
   },
   "outputs": [
    {
     "data": {
      "application/javascript": [
       "parent.postMessage({\"jupyterEvent\": \"custom.exercise_interaction\", \"data\": {\"interactionType\": 3, \"questionType\": 4, \"questionId\": \"4.2_ThinkBlueReg\", \"learnToolsVersion\": \"0.3.4\", \"valueTowardsCompletion\": 0.0, \"failureMessage\": \"\", \"exceptionClass\": \"\", \"trace\": \"\", \"outcomeType\": 4}}, \"*\")"
      ],
      "text/plain": [
       "<IPython.core.display.Javascript object>"
      ]
     },
     "metadata": {},
     "output_type": "display_data"
    },
    {
     "data": {
      "text/markdown": [
       "<span style=\"color:#33cc99\">Solution:</span> Since the regression line has a slightly positive slope, this tells us that there is a slightly positive correlation between `'winpercent'` and `'sugarpercent'`. Thus, people have a slight preference for candies containing relatively more sugar."
      ],
      "text/plain": [
       "Solution: Since the regression line has a slightly positive slope, this tells us that there is a slightly positive correlation between `'winpercent'` and `'sugarpercent'`. Thus, people have a slight preference for candies containing relatively more sugar."
      ]
     },
     "metadata": {},
     "output_type": "display_data"
    }
   ],
   "source": [
    "# Check your answer (Run this code cell to receive credit!)\n",
    "step_4.b.solution()"
   ]
  },
  {
   "cell_type": "markdown",
   "id": "9f21335b",
   "metadata": {
    "papermill": {
     "duration": 0.015253,
     "end_time": "2023-06-30T01:10:05.523517",
     "exception": false,
     "start_time": "2023-06-30T01:10:05.508264",
     "status": "completed"
    },
    "tags": []
   },
   "source": [
    "## Step 5: Chocolate!\n",
    "\n",
    "In the code cell below, create a scatter plot to show the relationship between `'pricepercent'` (on the horizontal x-axis) and `'winpercent'` (on the vertical y-axis). Use the `'chocolate'` column to color-code the points.  _Don't add any regression lines just yet -- you'll do that in the next step!_"
   ]
  },
  {
   "cell_type": "code",
   "execution_count": 16,
   "id": "6676133f",
   "metadata": {
    "execution": {
     "iopub.execute_input": "2023-06-30T01:10:05.557330Z",
     "iopub.status.busy": "2023-06-30T01:10:05.556597Z",
     "iopub.status.idle": "2023-06-30T01:10:05.973860Z",
     "shell.execute_reply": "2023-06-30T01:10:05.972588Z"
    },
    "papermill": {
     "duration": 0.436939,
     "end_time": "2023-06-30T01:10:05.976397",
     "exception": false,
     "start_time": "2023-06-30T01:10:05.539458",
     "status": "completed"
    },
    "tags": []
   },
   "outputs": [
    {
     "data": {
      "application/javascript": [
       "parent.postMessage({\"jupyterEvent\": \"custom.exercise_interaction\", \"data\": {\"outcomeType\": 1, \"valueTowardsCompletion\": 0.3333333333333333, \"interactionType\": 1, \"questionType\": 2, \"questionId\": \"5_ColorScatter\", \"learnToolsVersion\": \"0.3.4\", \"failureMessage\": \"\", \"exceptionClass\": \"\", \"trace\": \"\"}}, \"*\")"
      ],
      "text/plain": [
       "<IPython.core.display.Javascript object>"
      ]
     },
     "metadata": {},
     "output_type": "display_data"
    },
    {
     "data": {
      "text/markdown": [
       "<span style=\"color:#33cc33\">Correct</span>"
      ],
      "text/plain": [
       "Correct"
      ]
     },
     "metadata": {},
     "output_type": "display_data"
    },
    {
     "data": {
      "image/png": "[encoded data removed]",
      "text/plain": [
       "<Figure size 640x480 with 1 Axes>"
      ]
     },
     "metadata": {},
     "output_type": "display_data"
    }
   ],
   "source": [
    "# Scatter plot showing the relationship between 'pricepercent', 'winpercent', and 'chocolate'\n",
    "sns.scatterplot(x=candy_data['pricepercent'], y=candy_data['winpercent'], hue=candy_data['chocolate'])\n",
    "\n",
    "# Check your answer\n",
    "step_5.check()"
   ]
  },
  {
   "cell_type": "code",
   "execution_count": 17,
   "id": "dc0667fc",
   "metadata": {
    "execution": {
     "iopub.execute_input": "2023-06-30T01:10:06.013152Z",
     "iopub.status.busy": "2023-06-30T01:10:06.012727Z",
     "iopub.status.idle": "2023-06-30T01:10:06.017054Z",
     "shell.execute_reply": "2023-06-30T01:10:06.016076Z"
    },
    "papermill": {
     "duration": 0.025805,
     "end_time": "2023-06-30T01:10:06.019480",
     "exception": false,
     "start_time": "2023-06-30T01:10:05.993675",
     "status": "completed"
    },
    "tags": []
   },
   "outputs": [],
   "source": [
    "# Lines below will give you a hint or solution code\n",
    "#step_5.hint()\n",
    "#step_5.solution_plot()"
   ]
  },
  {
   "cell_type": "markdown",
   "id": "853dcce0",
   "metadata": {
    "papermill": {
     "duration": 0.017991,
     "end_time": "2023-06-30T01:10:06.054440",
     "exception": false,
     "start_time": "2023-06-30T01:10:06.036449",
     "status": "completed"
    },
    "tags": []
   },
   "source": [
    "Can you see any interesting patterns in the scatter plot?  We'll investigate this plot further  by adding regression lines in the next step!\n",
    "\n",
    "## Step 6: Investigate chocolate\n",
    "\n",
    "#### Part A\n",
    "\n",
    "Create the same scatter plot you created in **Step 5**, but now with two regression lines, corresponding to (1) chocolate candies and (2) candies without chocolate."
   ]
  },
  {
   "cell_type": "code",
   "execution_count": 18,
   "id": "d9f89ed9",
   "metadata": {
    "execution": {
     "iopub.execute_input": "2023-06-30T01:10:06.089813Z",
     "iopub.status.busy": "2023-06-30T01:10:06.088766Z",
     "iopub.status.idle": "2023-06-30T01:10:06.998711Z",
     "shell.execute_reply": "2023-06-30T01:10:06.997497Z"
    },
    "papermill": {
     "duration": 0.930429,
     "end_time": "2023-06-30T01:10:07.001385",
     "exception": false,
     "start_time": "2023-06-30T01:10:06.070956",
     "status": "completed"
    },
    "tags": []
   },
   "outputs": [
    {
     "data": {
      "application/javascript": [
       "parent.postMessage({\"jupyterEvent\": \"custom.exercise_interaction\", \"data\": {\"outcomeType\": 1, \"valueTowardsCompletion\": 0.3333333333333333, \"interactionType\": 1, \"questionType\": 2, \"questionId\": \"6.1_PlotColorReg\", \"learnToolsVersion\": \"0.3.4\", \"failureMessage\": \"\", \"exceptionClass\": \"\", \"trace\": \"\"}}, \"*\")"
      ],
      "text/plain": [
       "<IPython.core.display.Javascript object>"
      ]
     },
     "metadata": {},
     "output_type": "display_data"
    },
    {
     "data": {
      "text/markdown": [
       "<span style=\"color:#33cc33\">Correct</span>"
      ],
      "text/plain": [
       "Correct"
      ]
     },
     "metadata": {},
     "output_type": "display_data"
    },
    {
     "data": {
      "image/png": "[encoded data removed]",
      "text/plain": [
       "<Figure size 578.611x500 with 1 Axes>"
      ]
     },
     "metadata": {},
     "output_type": "display_data"
    }
   ],
   "source": [
    "# Color-coded scatter plot w/ regression lines\n",
    "sns.lmplot(x=\"pricepercent\", y=\"winpercent\", hue=\"chocolate\", data=candy_data)\n",
    "\n",
    "# Check your answer\n",
    "step_6.a.check()"
   ]
  },
  {
   "cell_type": "code",
   "execution_count": 19,
   "id": "f7bdeae8",
   "metadata": {
    "execution": {
     "iopub.execute_input": "2023-06-30T01:10:07.039896Z",
     "iopub.status.busy": "2023-06-30T01:10:07.039504Z",
     "iopub.status.idle": "2023-06-30T01:10:07.044133Z",
     "shell.execute_reply": "2023-06-30T01:10:07.042951Z"
    },
    "papermill": {
     "duration": 0.026965,
     "end_time": "2023-06-30T01:10:07.046581",
     "exception": false,
     "start_time": "2023-06-30T01:10:07.019616",
     "status": "completed"
    },
    "tags": []
   },
   "outputs": [],
   "source": [
    "# Lines below will give you a hint or solution code\n",
    "#step_6.a.hint()\n",
    "#step_6.a.solution_plot()"
   ]
  },
  {
   "cell_type": "markdown",
   "id": "b0bacb6e",
   "metadata": {
    "papermill": {
     "duration": 0.017282,
     "end_time": "2023-06-30T01:10:07.082083",
     "exception": false,
     "start_time": "2023-06-30T01:10:07.064801",
     "status": "completed"
    },
    "tags": []
   },
   "source": [
    "#### Part B\n",
    "\n",
    "Using the regression lines, what conclusions can you draw about the effects of chocolate and price on candy popularity?"
   ]
  },
  {
   "cell_type": "code",
   "execution_count": 20,
   "id": "5f0f926c",
   "metadata": {
    "execution": {
     "iopub.execute_input": "2023-06-30T01:10:07.119189Z",
     "iopub.status.busy": "2023-06-30T01:10:07.118684Z",
     "iopub.status.idle": "2023-06-30T01:10:07.123963Z",
     "shell.execute_reply": "2023-06-30T01:10:07.122843Z"
    },
    "papermill": {
     "duration": 0.027267,
     "end_time": "2023-06-30T01:10:07.126973",
     "exception": false,
     "start_time": "2023-06-30T01:10:07.099706",
     "status": "completed"
    },
    "tags": []
   },
   "outputs": [],
   "source": [
    "#step_6.b.hint()"
   ]
  },
  {
   "cell_type": "code",
   "execution_count": 21,
   "id": "75ce8d93",
   "metadata": {
    "execution": {
     "iopub.execute_input": "2023-06-30T01:10:07.164748Z",
     "iopub.status.busy": "2023-06-30T01:10:07.164339Z",
     "iopub.status.idle": "2023-06-30T01:10:07.174085Z",
     "shell.execute_reply": "2023-06-30T01:10:07.172923Z"
    },
    "papermill": {
     "duration": 0.031486,
     "end_time": "2023-06-30T01:10:07.176617",
     "exception": false,
     "start_time": "2023-06-30T01:10:07.145131",
     "status": "completed"
    },
    "tags": []
   },
   "outputs": [
    {
     "data": {
      "application/javascript": [
       "parent.postMessage({\"jupyterEvent\": \"custom.exercise_interaction\", \"data\": {\"interactionType\": 3, \"questionType\": 4, \"questionId\": \"6.2_ThinkColorReg\", \"learnToolsVersion\": \"0.3.4\", \"valueTowardsCompletion\": 0.0, \"failureMessage\": \"\", \"exceptionClass\": \"\", \"trace\": \"\", \"outcomeType\": 4}}, \"*\")"
      ],
      "text/plain": [
       "<IPython.core.display.Javascript object>"
      ]
     },
     "metadata": {},
     "output_type": "display_data"
    },
    {
     "data": {
      "text/markdown": [
       "<span style=\"color:#33cc99\">Solution:</span> We'll begin with the regression line for chocolate candies. Since this line has a slightly positive slope, we can say that more expensive chocolate candies tend to be more popular (than relatively cheaper chocolate candies).  Likewise, since the regression line for candies without chocolate has a negative slope, we can say that if candies don't contain chocolate, they tend to be more popular when they are cheaper.  One important note, however, is that the dataset is quite small -- so we shouldn't invest too much trust in these patterns!  To inspire more confidence in the results, we should add more candies to the dataset."
      ],
      "text/plain": [
       "Solution: We'll begin with the regression line for chocolate candies. Since this line has a slightly positive slope, we can say that more expensive chocolate candies tend to be more popular (than relatively cheaper chocolate candies).  Likewise, since the regression line for candies without chocolate has a negative slope, we can say that if candies don't contain chocolate, they tend to be more popular when they are cheaper.  One important note, however, is that the dataset is quite small -- so we shouldn't invest too much trust in these patterns!  To inspire more confidence in the results, we should add more candies to the dataset."
      ]
     },
     "metadata": {},
     "output_type": "display_data"
    }
   ],
   "source": [
    "# Check your answer (Run this code cell to receive credit!)\n",
    "step_6.b.solution()"
   ]
  },
  {
   "cell_type": "markdown",
   "id": "3b4efa70",
   "metadata": {
    "papermill": {
     "duration": 0.018166,
     "end_time": "2023-06-30T01:10:07.213390",
     "exception": false,
     "start_time": "2023-06-30T01:10:07.195224",
     "status": "completed"
    },
    "tags": []
   },
   "source": [
    "## Step 7: Everybody loves chocolate.\n",
    "\n",
    "#### Part A\n",
    "\n",
    "Create a categorical scatter plot to highlight the relationship between `'chocolate'` and `'winpercent'`.  Put `'chocolate'` on the (horizontal) x-axis, and `'winpercent'` on the (vertical) y-axis."
   ]
  },
  {
   "cell_type": "code",
   "execution_count": 22,
   "id": "6c92898f",
   "metadata": {
    "execution": {
     "iopub.execute_input": "2023-06-30T01:10:07.251465Z",
     "iopub.status.busy": "2023-06-30T01:10:07.251086Z",
     "iopub.status.idle": "2023-06-30T01:10:07.810449Z",
     "shell.execute_reply": "2023-06-30T01:10:07.808848Z"
    },
    "papermill": {
     "duration": 0.583373,
     "end_time": "2023-06-30T01:10:07.814787",
     "exception": false,
     "start_time": "2023-06-30T01:10:07.231414",
     "status": "completed"
    },
    "tags": []
   },
   "outputs": [
    {
     "data": {
      "application/javascript": [
       "parent.postMessage({\"jupyterEvent\": \"custom.exercise_interaction\", \"data\": {\"outcomeType\": 1, \"valueTowardsCompletion\": 0.3333333333333333, \"interactionType\": 1, \"questionType\": 2, \"questionId\": \"7.1_PlotSwarm\", \"learnToolsVersion\": \"0.3.4\", \"failureMessage\": \"\", \"exceptionClass\": \"\", \"trace\": \"\"}}, \"*\")"
      ],
      "text/plain": [
       "<IPython.core.display.Javascript object>"
      ]
     },
     "metadata": {},
     "output_type": "display_data"
    },
    {
     "data": {
      "text/markdown": [
       "<span style=\"color:#33cc33\">Correct</span>"
      ],
      "text/plain": [
       "Correct"
      ]
     },
     "metadata": {},
     "output_type": "display_data"
    },
    {
     "data": {
      "image/png": "[encoded data removed]",
      "text/plain": [
       "<Figure size 640x480 with 1 Axes>"
      ]
     },
     "metadata": {},
     "output_type": "display_data"
    }
   ],
   "source": [
    "# Scatter plot showing the relationship between 'chocolate' and 'winpercent'\n",
    "sns.swarmplot(x=candy_data['chocolate'], y=candy_data['winpercent'])\n",
    "\n",
    "# Check your answer\n",
    "step_7.a.check()"
   ]
  },
  {
   "cell_type": "code",
   "execution_count": 23,
   "id": "39a9e9c3",
   "metadata": {
    "execution": {
     "iopub.execute_input": "2023-06-30T01:10:07.863250Z",
     "iopub.status.busy": "2023-06-30T01:10:07.862087Z",
     "iopub.status.idle": "2023-06-30T01:10:07.869909Z",
     "shell.execute_reply": "2023-06-30T01:10:07.869163Z"
    },
    "papermill": {
     "duration": 0.030197,
     "end_time": "2023-06-30T01:10:07.871979",
     "exception": false,
     "start_time": "2023-06-30T01:10:07.841782",
     "status": "completed"
    },
    "tags": []
   },
   "outputs": [
    {
     "data": {
      "application/javascript": [
       "parent.postMessage({\"jupyterEvent\": \"custom.exercise_interaction\", \"data\": {\"interactionType\": 2, \"questionType\": 2, \"questionId\": \"7.1_PlotSwarm\", \"learnToolsVersion\": \"0.3.4\", \"valueTowardsCompletion\": 0.0, \"failureMessage\": \"\", \"exceptionClass\": \"\", \"trace\": \"\", \"outcomeType\": 4}}, \"*\")"
      ],
      "text/plain": [
       "<IPython.core.display.Javascript object>"
      ]
     },
     "metadata": {},
     "output_type": "display_data"
    },
    {
     "data": {
      "text/markdown": [
       "<span style=\"color:#3366cc\">Hint:</span> Use `sns.swarmplot`, and set the variables for the x-axis and y-axis by using `x=` and `y=`, respectively."
      ],
      "text/plain": [
       "Hint: Use `sns.swarmplot`, and set the variables for the x-axis and y-axis by using `x=` and `y=`, respectively."
      ]
     },
     "metadata": {},
     "output_type": "display_data"
    }
   ],
   "source": [
    "# Lines below will give you a hint or solution code\n",
    "step_7.a.hint()\n",
    "#step_7.a.solution_plot()"
   ]
  },
  {
   "cell_type": "markdown",
   "id": "3239931d",
   "metadata": {
    "papermill": {
     "duration": 0.019226,
     "end_time": "2023-06-30T01:10:07.910954",
     "exception": false,
     "start_time": "2023-06-30T01:10:07.891728",
     "status": "completed"
    },
    "tags": []
   },
   "source": [
    "#### Part B\n",
    "\n",
    "You decide to dedicate a section of your report to the fact that chocolate candies tend to be more popular than candies without chocolate.  Which plot is more appropriate to tell this story: the plot from **Step 6**, or the plot from **Step 7**?"
   ]
  },
  {
   "cell_type": "code",
   "execution_count": 24,
   "id": "4c083ada",
   "metadata": {
    "execution": {
     "iopub.execute_input": "2023-06-30T01:10:07.952809Z",
     "iopub.status.busy": "2023-06-30T01:10:07.952076Z",
     "iopub.status.idle": "2023-06-30T01:10:07.956949Z",
     "shell.execute_reply": "2023-06-30T01:10:07.955681Z"
    },
    "papermill": {
     "duration": 0.028409,
     "end_time": "2023-06-30T01:10:07.959463",
     "exception": false,
     "start_time": "2023-06-30T01:10:07.931054",
     "status": "completed"
    },
    "tags": []
   },
   "outputs": [],
   "source": [
    "#step_7.b.hint()"
   ]
  },
  {
   "cell_type": "code",
   "execution_count": 25,
   "id": "729d2038",
   "metadata": {
    "execution": {
     "iopub.execute_input": "2023-06-30T01:10:08.001318Z",
     "iopub.status.busy": "2023-06-30T01:10:08.000864Z",
     "iopub.status.idle": "2023-06-30T01:10:08.010703Z",
     "shell.execute_reply": "2023-06-30T01:10:08.009572Z"
    },
    "papermill": {
     "duration": 0.033574,
     "end_time": "2023-06-30T01:10:08.013061",
     "exception": false,
     "start_time": "2023-06-30T01:10:07.979487",
     "status": "completed"
    },
    "tags": []
   },
   "outputs": [
    {
     "data": {
      "application/javascript": [
       "parent.postMessage({\"jupyterEvent\": \"custom.exercise_interaction\", \"data\": {\"interactionType\": 3, \"questionType\": 4, \"questionId\": \"7.2_ThinkSwarm\", \"learnToolsVersion\": \"0.3.4\", \"valueTowardsCompletion\": 0.0, \"failureMessage\": \"\", \"exceptionClass\": \"\", \"trace\": \"\", \"outcomeType\": 4}}, \"*\")"
      ],
      "text/plain": [
       "<IPython.core.display.Javascript object>"
      ]
     },
     "metadata": {},
     "output_type": "display_data"
    },
    {
     "data": {
      "text/markdown": [
       "<span style=\"color:#33cc99\">Solution:</span> In this case, the categorical scatter plot from **Step 7** is the more appropriate plot. While both plots tell the desired story, the plot from **Step 6** conveys far more information that could distract from the main point."
      ],
      "text/plain": [
       "Solution: In this case, the categorical scatter plot from **Step 7** is the more appropriate plot. While both plots tell the desired story, the plot from **Step 6** conveys far more information that could distract from the main point."
      ]
     },
     "metadata": {},
     "output_type": "display_data"
    }
   ],
   "source": [
    "# Check your answer (Run this code cell to receive credit!)\n",
    "step_7.b.solution()"
   ]
  },
  {
   "cell_type": "markdown",
   "id": "e9b71022",
   "metadata": {
    "papermill": {
     "duration": 0.020077,
     "end_time": "2023-06-30T01:10:08.053365",
     "exception": false,
     "start_time": "2023-06-30T01:10:08.033288",
     "status": "completed"
    },
    "tags": []
   },
   "source": [
    "## Keep going\n",
    "\n",
    "Explore **[histograms and density plots](https://www.kaggle.com/alexisbcook/distributions)**."
   ]
  },
  {
   "cell_type": "markdown",
   "id": "845cd7e3",
   "metadata": {
    "papermill": {
     "duration": 0.019032,
     "end_time": "2023-06-30T01:10:08.091649",
     "exception": false,
     "start_time": "2023-06-30T01:10:08.072617",
     "status": "completed"
    },
    "tags": []
   },
   "source": [
    "---\n",
    "\n",
    "\n",
    "\n",
    "\n",
    "*Have questions or comments? Visit the [course discussion forum](https://www.kaggle.com/learn/data-visualization/discussion) to chat with other learners.*"
   ]
  }
 ],
 "metadata": {
  "kernelspec": {
   "display_name": "Python 3",
   "language": "python",
   "name": "python3"
  },
  "language_info": {
   "codemirror_mode": {
    "name": "ipython",
    "version": 3
   },
   "file_extension": ".py",
   "mimetype": "text/x-python",
   "name": "python",
   "nbconvert_exporter": "python",
   "pygments_lexer": "ipython3",
   "version": "3.10.10"
  },
  "papermill": {
   "default_parameters": {},
   "duration": 19.288712,
   "end_time": "2023-06-30T01:10:09.135160",
   "environment_variables": {},
   "exception": null,
   "input_path": "__notebook__.ipynb",
   "output_path": "__notebook__.ipynb",
   "parameters": {},
   "start_time": "2023-06-30T01:09:49.846448",
   "version": "2.4.0"
  }
 },
 "nbformat": 4,
 "nbformat_minor": 5
}
